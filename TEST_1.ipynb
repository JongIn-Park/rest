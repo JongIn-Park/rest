{
  "nbformat": 4,
  "nbformat_minor": 0,
  "metadata": {
    "colab": {
      "name": "TEST_1.ipynb",
      "provenance": [],
      "authorship_tag": "ABX9TyN925LAdfi4JKORnNrxDZHc",
      "include_colab_link": true
    },
    "kernelspec": {
      "name": "python3",
      "display_name": "Python 3"
    }
  },
  "cells": [
    {
      "cell_type": "markdown",
      "metadata": {
        "id": "view-in-github",
        "colab_type": "text"
      },
      "source": [
        "<a href=\"https://colab.research.google.com/github/JongIn-Park/rest/blob/master/TEST_1.ipynb\" target=\"_parent\"><img src=\"https://colab.research.google.com/assets/colab-badge.svg\" alt=\"Open In Colab\"/></a>"
      ]
    },
    {
      "cell_type": "markdown",
      "metadata": {
        "id": "m-zCuwTw9pJM",
        "colab_type": "text"
      },
      "source": [
        "#1주차 과제\n",
        "##인공지능 활용 제품과 서비스\n",
        "1.   언어\n",
        "> 1) [구글번역기](https://translate.google.com) \n",
        "![대체 텍스트](https://cdn.slashgear.com/wp-content/uploads/2019/12/google_translate_main-1280x720.jpg)\n",
        "2.   음성 \n",
        "> 1) [NUGU](https://nugu.co.kr/)\n",
        "![대체 텍스트](https://file.mk.co.kr/meet/neds/2018/07/image_readtop_2018_438306_15313356643383622.jpg)\n",
        "3.   이미지\n",
        "> 1) [facebook recognition](https://www.facebook.com/help/122175507864081)\n",
        "![대체 텍스트](https://image.chosun.com/sitedata/image/201907/20/2019072000697_0.jpg)\n",
        "4.   자율주행\n",
        "> 1) [Autopilot](https://www.tesla.com/autopilot)\n",
        "![대체 텍스트](https://www.teslarati.com/wp-content/uploads/2018/06/tesla-autopilot-vehicle-detection.jpg)\n",
        "\n",
        "\n",
        "\n",
        "\n",
        "\n",
        "\n",
        "\n",
        "\n",
        "\n",
        "\n",
        "\n",
        "\n",
        "\n"
      ]
    },
    {
      "cell_type": "code",
      "metadata": {
        "id": "-3SAhtxKB21a",
        "colab_type": "code",
        "colab": {}
      },
      "source": [
        ""
      ],
      "execution_count": 0,
      "outputs": []
    }
  ]
}